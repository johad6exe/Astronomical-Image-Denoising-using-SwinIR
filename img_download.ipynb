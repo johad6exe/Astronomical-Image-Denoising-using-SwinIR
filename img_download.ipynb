{
 "cells": [
  {
   "cell_type": "code",
   "execution_count": 10,
   "id": "4062a8cf",
   "metadata": {},
   "outputs": [],
   "source": [
    "import pandas as pd\n",
    "import os\n",
    "import requests\n",
    "from tqdm import tqdm"
   ]
  },
  {
   "cell_type": "code",
   "execution_count": 11,
   "id": "a7d719dd",
   "metadata": {},
   "outputs": [],
   "source": [
    "# --- Configuration ---\n",
    "csv_path = \"Stars-800.csv\"  # CSV file with 'ra' and 'dec' columns\n",
    "output_dir = \"sdss_800_images\"  # Output folder for JPEGs\n",
    "scale = 0.25  # 64.0 arcsec\n",
    "width = 256  # image width in pixels\n",
    "height = 256  # image height in pixels"
   ]
  },
  {
   "cell_type": "code",
   "execution_count": 12,
   "id": "5e650506",
   "metadata": {},
   "outputs": [],
   "source": [
    "# --- Create output directory ---\n",
    "os.makedirs(output_dir, exist_ok=True)"
   ]
  },
  {
   "cell_type": "code",
   "execution_count": 13,
   "id": "2fff9d9c",
   "metadata": {},
   "outputs": [],
   "source": [
    "# --- Read coordinates ---\n",
    "df = pd.read_csv(csv_path)\n",
    "if 'ra' not in df.columns or 'dec' not in df.columns:\n",
    "    raise ValueError(\"CSV must contain 'ra' and 'dec' columns\")\n"
   ]
  },
  {
   "cell_type": "code",
   "execution_count": 14,
   "id": "078eb93f",
   "metadata": {},
   "outputs": [],
   "source": [
    "# --- Function to download image from SDSS ---\n",
    "def download_sdss_jpeg(ra, dec, filename):\n",
    "    url = \"https://skyserver.sdss.org/dr16/SkyServerWS/ImgCutout/getjpeg\"\n",
    "    params = {\n",
    "        \"ra\": ra,\n",
    "        \"dec\": dec,\n",
    "        \"scale\": scale,\n",
    "        \"width\": width,\n",
    "        \"height\": height,\n",
    "        \"opt\": \"\"  # empty = no overlays (you can try \"G\" for grid, etc.)\n",
    "    }\n",
    "    response = requests.get(url, params=params, timeout=10)\n",
    "    if response.status_code == 200:\n",
    "        with open(filename, \"wb\") as f:\n",
    "            f.write(response.content)\n",
    "    else:\n",
    "        print(f\"Failed to download image for RA={ra}, DEC={dec}, Status={response.status_code}\")\n"
   ]
  },
  {
   "cell_type": "code",
   "execution_count": 15,
   "id": "9cb62b9a",
   "metadata": {},
   "outputs": [
    {
     "name": "stderr",
     "output_type": "stream",
     "text": [
      "100%|██████████| 800/800 [14:18<00:00,  1.07s/it]"
     ]
    },
    {
     "name": "stdout",
     "output_type": "stream",
     "text": [
      "Downloaded 800 JPEG images to 'sdss_800_images'\n"
     ]
    },
    {
     "name": "stderr",
     "output_type": "stream",
     "text": [
      "\n"
     ]
    }
   ],
   "source": [
    "# --- Loop through coordinates and download images ---\n",
    "for i, row in tqdm(df.iterrows(), total=len(df)):\n",
    "    ra = row['ra']\n",
    "    dec = row['dec']\n",
    "    filename = os.path.join(output_dir, f\"star_{i}_ra{ra:.4f}_dec{dec:.4f}.jpg\")\n",
    "    download_sdss_jpeg(ra, dec, filename)\n",
    "\n",
    "print(f\"Downloaded {len(df)} JPEG images to '{output_dir}'\")"
   ]
  },
  {
   "cell_type": "code",
   "execution_count": null,
   "id": "2dbc9cc6",
   "metadata": {},
   "outputs": [],
   "source": []
  }
 ],
 "metadata": {
  "kernelspec": {
   "display_name": "base",
   "language": "python",
   "name": "python3"
  },
  "language_info": {
   "codemirror_mode": {
    "name": "ipython",
    "version": 3
   },
   "file_extension": ".py",
   "mimetype": "text/x-python",
   "name": "python",
   "nbconvert_exporter": "python",
   "pygments_lexer": "ipython3",
   "version": "3.12.7"
  }
 },
 "nbformat": 4,
 "nbformat_minor": 5
}
